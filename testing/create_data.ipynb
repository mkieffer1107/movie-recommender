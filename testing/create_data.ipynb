{
 "cells": [
  {
   "cell_type": "code",
   "execution_count": null,
   "metadata": {},
   "outputs": [],
   "source": [
    "import os\n",
    "import numpy as np\n",
    "import pandas as pd\n",
    "import matplotlib.pyplot as plt"
   ]
  },
  {
   "cell_type": "markdown",
   "metadata": {},
   "source": [
    "---\n",
    "## Read the data\n",
    "\n",
    "Movie names from [here](https://dataverse.harvard.edu/file.xhtml?fileId=4435583&version=1.0)"
   ]
  },
  {
   "cell_type": "code",
   "execution_count": null,
   "metadata": {},
   "outputs": [],
   "source": [
    "DATA_PATH = os.path.join(\"..\", \"data\", \"movies.csv\")"
   ]
  },
  {
   "cell_type": "code",
   "execution_count": null,
   "metadata": {},
   "outputs": [],
   "source": [
    "movies = []\n",
    "with open(DATA_PATH, \"r\") as f:\n",
    "    for line in f.readlines():\n",
    "        movie = line.split(\",\")[0]\n",
    "        movies.append(movie)\n",
    "len(movies)"
   ]
  },
  {
   "cell_type": "code",
   "execution_count": null,
   "metadata": {},
   "outputs": [],
   "source": [
    "rand_idx = np.random.randint(0, len(movies))\n",
    "movies[rand_idx]"
   ]
  },
  {
   "cell_type": "markdown",
   "metadata": {},
   "source": [
    "---\n",
    "## Use the Wikipedia API to get plots and summary for each movie"
   ]
  },
  {
   "cell_type": "code",
   "execution_count": null,
   "metadata": {},
   "outputs": [],
   "source": [
    "# import requests\n",
    "# import time\n",
    "# import json\n",
    "\n",
    "# def fetch_movie_data(movie_title, rate_limit=1):\n",
    "#     time.sleep(rate_limit)\n",
    "#     url = f\"https://en.wikipedia.org/api/rest_v1/page/summary/{movie_title}\"\n",
    "#     response = requests.get(url)\n",
    "#     if response.status_code == 200:\n",
    "#         return response.json()\n",
    "#     else:\n",
    "#         print(f\"Failed to get data for {movie_title}\")\n",
    "#         return None\n",
    "\n",
    "# def main():\n",
    "#     # Your list of 20,000 movie titles\n",
    "#     movie_titles = [\"Inception\", \"Avatar\"]  # Extend this list\n",
    "#     movie_data = {}\n",
    "#     cache_file = \"movie_data_cache.json\"\n",
    "\n",
    "#     try:\n",
    "#         with open(cache_file, \"r\") as f:\n",
    "#             movie_data = json.load(f)\n",
    "#     except FileNotFoundError:\n",
    "#         print(\"No cache file found. Creating a new one.\")\n",
    "    \n",
    "#     for title in movie_titles:\n",
    "#         if title in movie_data:\n",
    "#             print(f\"Cache hit for {title}\")\n",
    "#             continue\n",
    "\n",
    "#         print(f\"Fetching data for {title}\")\n",
    "#         data = fetch_movie_data(title)\n",
    "#         if data:\n",
    "#             movie_data[title] = {\n",
    "#                 \"plot\": data.get(\"extract\", \"N/A\"),\n",
    "#                 \"summary\": data.get(\"description\", \"N/A\")\n",
    "#             }\n",
    "\n",
    "#     with open(cache_file, \"w\") as f:\n",
    "#         json.dump(movie_data, f)\n",
    "\n",
    "#     print(\"All movie data fetched and cached.\")\n",
    "\n",
    "# if __name__ == \"__main__\":\n",
    "#     main()\n"
   ]
  },
  {
   "cell_type": "markdown",
   "metadata": {},
   "source": [
    "---\n",
    "# Generate embeddings\n",
    "\n",
    "We use [sbert](https://www.sbert.net/) "
   ]
  },
  {
   "cell_type": "code",
   "execution_count": null,
   "metadata": {},
   "outputs": [],
   "source": [
    "from sentence_transformers import SentenceTransformer\n",
    "model = SentenceTransformer('all-MiniLM-L6-v2')"
   ]
  },
  {
   "cell_type": "code",
   "execution_count": 195,
   "metadata": {},
   "outputs": [],
   "source": [
    "sentences = [\n",
    "    'This framework generates embeddings for each input sentence',\n",
    "    'Sentences are passed as a list of string.',\n",
    "    'The quick brown fox jumps over the lazy dog.'\n",
    "    ]\n",
    "\n",
    "embeddings = model.encode(sentences)"
   ]
  },
  {
   "cell_type": "code",
   "execution_count": 196,
   "metadata": {},
   "outputs": [
    {
     "name": "stdout",
     "output_type": "stream",
     "text": [
      "all result: [0.13834487 0.08460952 0.53164786]\n",
      "top k results: [2 0]\n",
      "\n",
      "top 2 results for query: 'dog jumps'\n",
      "   - The quick brown fox jumps over the lazy dog.\n",
      "   - This framework generates embeddings for each input sentence\n"
     ]
    }
   ],
   "source": [
    "k = 2\n",
    "query = \"dog jumps\"\n",
    "emb = model.encode(\"dog jumps\")\n",
    "result = embeddings @ emb # np.dot(embeddings, query)\n",
    "topk = np.argsort(result)[::-1][:k]\n",
    "print(\"all result:\", result)\n",
    "print(\"top k results:\", topk)\n",
    "\n",
    "print()\n",
    "print(f\"top {k} results for query: '{query}'\")\n",
    "for match in topk:\n",
    "    print(\"   -\", sentences[match])"
   ]
  },
  {
   "cell_type": "markdown",
   "metadata": {},
   "source": [
    "---\n",
    "## Embed some movies"
   ]
  },
  {
   "cell_type": "code",
   "execution_count": 197,
   "metadata": {},
   "outputs": [],
   "source": [
    "DATA_PATH = os.path.join(\"..\", \"data\", \"wiki_movies.csv\")"
   ]
  },
  {
   "cell_type": "code",
   "execution_count": 198,
   "metadata": {},
   "outputs": [
    {
     "data": {
      "text/plain": [
       "(34886, 3)"
      ]
     },
     "execution_count": 198,
     "metadata": {},
     "output_type": "execute_result"
    }
   ],
   "source": [
    "data = pd.read_csv(DATA_PATH)\n",
    "df = data[[\"Title\", \"Wiki Page\", \"Plot\"]]\n",
    "df.shape"
   ]
  },
  {
   "cell_type": "code",
   "execution_count": 199,
   "metadata": {},
   "outputs": [
    {
     "data": {
      "text/html": [
       "<div>\n",
       "<style scoped>\n",
       "    .dataframe tbody tr th:only-of-type {\n",
       "        vertical-align: middle;\n",
       "    }\n",
       "\n",
       "    .dataframe tbody tr th {\n",
       "        vertical-align: top;\n",
       "    }\n",
       "\n",
       "    .dataframe thead th {\n",
       "        text-align: right;\n",
       "    }\n",
       "</style>\n",
       "<table border=\"1\" class=\"dataframe\">\n",
       "  <thead>\n",
       "    <tr style=\"text-align: right;\">\n",
       "      <th></th>\n",
       "      <th>Title</th>\n",
       "      <th>Wiki Page</th>\n",
       "      <th>Plot</th>\n",
       "    </tr>\n",
       "  </thead>\n",
       "  <tbody>\n",
       "    <tr>\n",
       "      <th>0</th>\n",
       "      <td>Kansas Saloon Smashers</td>\n",
       "      <td>https://en.wikipedia.org/wiki/Kansas_Saloon_Sm...</td>\n",
       "      <td>A bartender is working at a saloon, serving dr...</td>\n",
       "    </tr>\n",
       "    <tr>\n",
       "      <th>1</th>\n",
       "      <td>Love by the Light of the Moon</td>\n",
       "      <td>https://en.wikipedia.org/wiki/Love_by_the_Ligh...</td>\n",
       "      <td>The moon, painted with a smiling face hangs ov...</td>\n",
       "    </tr>\n",
       "    <tr>\n",
       "      <th>2</th>\n",
       "      <td>The Martyred Presidents</td>\n",
       "      <td>https://en.wikipedia.org/wiki/The_Martyred_Pre...</td>\n",
       "      <td>The film, just over a minute long, is composed...</td>\n",
       "    </tr>\n",
       "    <tr>\n",
       "      <th>3</th>\n",
       "      <td>Terrible Teddy, the Grizzly King</td>\n",
       "      <td>https://en.wikipedia.org/wiki/Terrible_Teddy,_...</td>\n",
       "      <td>Lasting just 61 seconds and consisting of two ...</td>\n",
       "    </tr>\n",
       "    <tr>\n",
       "      <th>4</th>\n",
       "      <td>Jack and the Beanstalk</td>\n",
       "      <td>https://en.wikipedia.org/wiki/Jack_and_the_Bea...</td>\n",
       "      <td>The earliest known adaptation of the classic f...</td>\n",
       "    </tr>\n",
       "    <tr>\n",
       "      <th>...</th>\n",
       "      <td>...</td>\n",
       "      <td>...</td>\n",
       "      <td>...</td>\n",
       "    </tr>\n",
       "    <tr>\n",
       "      <th>34881</th>\n",
       "      <td>The Water Diviner</td>\n",
       "      <td>https://en.wikipedia.org/wiki/The_Water_Diviner</td>\n",
       "      <td>The film begins in 1919, just after World War ...</td>\n",
       "    </tr>\n",
       "    <tr>\n",
       "      <th>34882</th>\n",
       "      <td>Çalgı Çengi İkimiz</td>\n",
       "      <td>https://en.wikipedia.org/wiki/%C3%87alg%C4%B1_...</td>\n",
       "      <td>Two musicians, Salih and Gürkan, described the...</td>\n",
       "    </tr>\n",
       "    <tr>\n",
       "      <th>34883</th>\n",
       "      <td>Olanlar Oldu</td>\n",
       "      <td>https://en.wikipedia.org/wiki/Olanlar_Oldu</td>\n",
       "      <td>Zafer, a sailor living with his mother Döndü i...</td>\n",
       "    </tr>\n",
       "    <tr>\n",
       "      <th>34884</th>\n",
       "      <td>Non-Transferable</td>\n",
       "      <td>https://en.wikipedia.org/wiki/Non-Transferable...</td>\n",
       "      <td>The film centres around a young woman named Am...</td>\n",
       "    </tr>\n",
       "    <tr>\n",
       "      <th>34885</th>\n",
       "      <td>İstanbul Kırmızısı</td>\n",
       "      <td>https://en.wikipedia.org/wiki/%C4%B0stanbul_K%...</td>\n",
       "      <td>The writer Orhan Şahin returns to İstanbul aft...</td>\n",
       "    </tr>\n",
       "  </tbody>\n",
       "</table>\n",
       "<p>34886 rows × 3 columns</p>\n",
       "</div>"
      ],
      "text/plain": [
       "                                  Title  \\\n",
       "0                Kansas Saloon Smashers   \n",
       "1         Love by the Light of the Moon   \n",
       "2               The Martyred Presidents   \n",
       "3      Terrible Teddy, the Grizzly King   \n",
       "4                Jack and the Beanstalk   \n",
       "...                                 ...   \n",
       "34881                 The Water Diviner   \n",
       "34882                Çalgı Çengi İkimiz   \n",
       "34883                      Olanlar Oldu   \n",
       "34884                  Non-Transferable   \n",
       "34885                İstanbul Kırmızısı   \n",
       "\n",
       "                                               Wiki Page  \\\n",
       "0      https://en.wikipedia.org/wiki/Kansas_Saloon_Sm...   \n",
       "1      https://en.wikipedia.org/wiki/Love_by_the_Ligh...   \n",
       "2      https://en.wikipedia.org/wiki/The_Martyred_Pre...   \n",
       "3      https://en.wikipedia.org/wiki/Terrible_Teddy,_...   \n",
       "4      https://en.wikipedia.org/wiki/Jack_and_the_Bea...   \n",
       "...                                                  ...   \n",
       "34881    https://en.wikipedia.org/wiki/The_Water_Diviner   \n",
       "34882  https://en.wikipedia.org/wiki/%C3%87alg%C4%B1_...   \n",
       "34883         https://en.wikipedia.org/wiki/Olanlar_Oldu   \n",
       "34884  https://en.wikipedia.org/wiki/Non-Transferable...   \n",
       "34885  https://en.wikipedia.org/wiki/%C4%B0stanbul_K%...   \n",
       "\n",
       "                                                    Plot  \n",
       "0      A bartender is working at a saloon, serving dr...  \n",
       "1      The moon, painted with a smiling face hangs ov...  \n",
       "2      The film, just over a minute long, is composed...  \n",
       "3      Lasting just 61 seconds and consisting of two ...  \n",
       "4      The earliest known adaptation of the classic f...  \n",
       "...                                                  ...  \n",
       "34881  The film begins in 1919, just after World War ...  \n",
       "34882  Two musicians, Salih and Gürkan, described the...  \n",
       "34883  Zafer, a sailor living with his mother Döndü i...  \n",
       "34884  The film centres around a young woman named Am...  \n",
       "34885  The writer Orhan Şahin returns to İstanbul aft...  \n",
       "\n",
       "[34886 rows x 3 columns]"
      ]
     },
     "execution_count": 199,
     "metadata": {},
     "output_type": "execute_result"
    }
   ],
   "source": [
    "df"
   ]
  },
  {
   "cell_type": "code",
   "execution_count": 200,
   "metadata": {},
   "outputs": [],
   "source": [
    "total_embeddings = 20\n",
    "plots = list(df[\"Plot\"])[:total_embeddings]\n",
    "embeddings = model.encode(plots)"
   ]
  },
  {
   "cell_type": "code",
   "execution_count": 201,
   "metadata": {},
   "outputs": [],
   "source": [
    "np.save(\"movie_embeddings.npy\", embeddings)"
   ]
  },
  {
   "cell_type": "code",
   "execution_count": 202,
   "metadata": {},
   "outputs": [
    {
     "name": "stdout",
     "output_type": "stream",
     "text": [
      "top k results: [ 4  5  3 17 13  8 15 11  1  6  2  7 18 14  0 16 12 10  9 19]\n",
      "\n",
      "top 20 results for query: 'there is a bean'\n",
      "   - Jack and the Beanstalk\n",
      "   - Alice in Wonderland\n",
      "   - Terrible Teddy, the Grizzly King\n",
      "   - The Black Viper\n",
      "   - Daniel Boone\n",
      "   - The Little Train Robbery\n",
      "   - Laughing Gas\n",
      "   - From Leadville to Aspen: A Hold-Up in the Rockies\n",
      "   - Love by the Light of the Moon\n",
      "   - The Great Train Robbery\n",
      "   - The Martyred Presidents\n",
      "   - The Suburbanite\n",
      "   - A Calamitous Elopement\n",
      "   - How Brown Saw the Baseball Game\n",
      "   - Kansas Saloon Smashers\n",
      "   - The Adventures of Dollie\n",
      "   - Kathleen Mavourneen\n",
      "   - Dream of a Rarebit Fiend\n",
      "   - The Night Before Christmas\n",
      "   - The Call of the Wild\n"
     ]
    }
   ],
   "source": [
    "k = 20\n",
    "query = \"there is a bean\"\n",
    "emb = model.encode(query)\n",
    "result = embeddings @ emb # np.dot(embeddings, query)\n",
    "topk = np.argsort(result)[::-1][:k]\n",
    "# topk = np.argsort(result)[-k:]\n",
    "print(\"top k results:\", topk)\n",
    "\n",
    "print()\n",
    "print(f\"top {k} results for query: '{query}'\")\n",
    "for match in topk:\n",
    "    # print(\"   -\", plots[match])\n",
    "    print(\"   -\", df.iloc[match][\"Title\"])"
   ]
  },
  {
   "cell_type": "code",
   "execution_count": 203,
   "metadata": {},
   "outputs": [
    {
     "data": {
      "text/plain": [
       "(20, 384)"
      ]
     },
     "execution_count": 203,
     "metadata": {},
     "output_type": "execute_result"
    }
   ],
   "source": [
    "embeddings.shape"
   ]
  },
  {
   "cell_type": "code",
   "execution_count": 14,
   "metadata": {},
   "outputs": [
    {
     "data": {
      "text/plain": [
       "3"
      ]
     },
     "execution_count": 14,
     "metadata": {},
     "output_type": "execute_result"
    }
   ],
   "source": [
    "import numpy as np\n",
    "lst = [\"1\", \"12\", \"123\", \"1\"]\n",
    "longest = lambda x: len(x)\n",
    "arr = len(max(lst, key=len))\n",
    "arr = max([len(x) for x in lst])\n",
    "arr"
   ]
  }
 ],
 "metadata": {
  "kernelspec": {
   "display_name": "base",
   "language": "python",
   "name": "python3"
  },
  "language_info": {
   "codemirror_mode": {
    "name": "ipython",
    "version": 3
   },
   "file_extension": ".py",
   "mimetype": "text/x-python",
   "name": "python",
   "nbconvert_exporter": "python",
   "pygments_lexer": "ipython3",
   "version": "3.9.7"
  },
  "orig_nbformat": 4
 },
 "nbformat": 4,
 "nbformat_minor": 2
}
